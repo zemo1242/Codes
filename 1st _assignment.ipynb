{
 "cells": [
  {
   "cell_type": "code",
   "execution_count": 2,
   "id": "1e0107d1",
   "metadata": {},
   "outputs": [
    {
     "name": "stdout",
     "output_type": "stream",
     "text": [
      "enter G6.67\n",
      "enter Mass earth6\n",
      "enter Mass moon7.34\n",
      "enter r3.84\n",
      "GForce is  3.112653096516927e+34\n"
     ]
    }
   ],
   "source": [
    "G   = float(input(\"enter G\"))\n",
    "M_e = float(input(\"enter Mass earth\"))\n",
    "M_m = float(input(\"enter Mass moon\"))\n",
    "r   = float(input(\"enter r\"))\n",
    "G   = G*(10**-11)\n",
    "M_e = M_e*(10**24)\n",
    "M_m = M_m*(10**24)\n",
    "r   = r*(10*8)\n",
    "Gforce = (G*M_e*M_m)/(r**2)\n",
    "print(\"GForce is \",Gforce)\n",
    "\n"
   ]
  },
  {
   "cell_type": "code",
   "execution_count": null,
   "id": "be2e7873",
   "metadata": {},
   "outputs": [],
   "source": []
  }
 ],
 "metadata": {
  "kernelspec": {
   "display_name": "Python 3 (ipykernel)",
   "language": "python",
   "name": "python3"
  },
  "language_info": {
   "codemirror_mode": {
    "name": "ipython",
    "version": 3
   },
   "file_extension": ".py",
   "mimetype": "text/x-python",
   "name": "python",
   "nbconvert_exporter": "python",
   "pygments_lexer": "ipython3",
   "version": "3.10.9"
  }
 },
 "nbformat": 4,
 "nbformat_minor": 5
}
